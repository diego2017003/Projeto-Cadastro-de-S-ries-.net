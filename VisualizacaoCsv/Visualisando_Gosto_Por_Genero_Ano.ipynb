{
  "nbformat": 4,
  "nbformat_minor": 0,
  "metadata": {
    "colab": {
      "name": "Visualisando_Gosto_Por_Genero_Ano.ipynb",
      "provenance": [],
      "authorship_tag": "ABX9TyPzb6b6POtiX1Zwz2qRt5a+",
      "include_colab_link": true
    },
    "kernelspec": {
      "name": "python3",
      "display_name": "Python 3"
    },
    "language_info": {
      "name": "python"
    }
  },
  "cells": [
    {
      "cell_type": "markdown",
      "metadata": {
        "id": "view-in-github",
        "colab_type": "text"
      },
      "source": [
        "<a href=\"https://colab.research.google.com/github/diego2017003/Projeto-Cadastro-de-Series-.net/blob/main/VisualizacaoCsv/Visualisando_Gosto_Por_Genero_Ano.ipynb\" target=\"_parent\"><img src=\"https://colab.research.google.com/assets/colab-badge.svg\" alt=\"Open In Colab\"/></a>"
      ]
    },
    {
      "cell_type": "code",
      "metadata": {
        "colab": {
          "base_uri": "https://localhost:8080/",
          "height": 426
        },
        "id": "StiIemO_eoGn",
        "outputId": "d0f26e0c-d2bb-4b5f-9588-cc2bfe6b4827"
      },
      "source": [
        "import pandas as pd\n",
        "import seaborn as sns\n",
        "import matplotlib.pyplot as plt\n",
        "\n",
        "dataSeries = pd.read_csv(\"https://raw.githubusercontent.com/diego2017003/Projeto-Cadastro-de-Series-.net/main/series.csv\",delimiter=',')\n",
        "dataSeries"
      ],
      "execution_count": null,
      "outputs": [
        {
          "output_type": "execute_result",
          "data": {
            "text/html": [
              "<div>\n",
              "<style scoped>\n",
              "    .dataframe tbody tr th:only-of-type {\n",
              "        vertical-align: middle;\n",
              "    }\n",
              "\n",
              "    .dataframe tbody tr th {\n",
              "        vertical-align: top;\n",
              "    }\n",
              "\n",
              "    .dataframe thead th {\n",
              "        text-align: right;\n",
              "    }\n",
              "</style>\n",
              "<table border=\"1\" class=\"dataframe\">\n",
              "  <thead>\n",
              "    <tr style=\"text-align: right;\">\n",
              "      <th></th>\n",
              "      <th>Titulo</th>\n",
              "      <th>Ano</th>\n",
              "      <th>genero</th>\n",
              "      <th></th>\n",
              "    </tr>\n",
              "  </thead>\n",
              "  <tbody>\n",
              "    <tr>\n",
              "      <th>0</th>\n",
              "      <td>How i met you mother</td>\n",
              "      <td>2006</td>\n",
              "      <td>Comedia</td>\n",
              "      <td></td>\n",
              "    </tr>\n",
              "    <tr>\n",
              "      <th>1</th>\n",
              "      <td>Game of thrones</td>\n",
              "      <td>2012</td>\n",
              "      <td>Fantasia</td>\n",
              "      <td></td>\n",
              "    </tr>\n",
              "    <tr>\n",
              "      <th>2</th>\n",
              "      <td>Mr robot</td>\n",
              "      <td>2010</td>\n",
              "      <td>Drama</td>\n",
              "      <td></td>\n",
              "    </tr>\n",
              "    <tr>\n",
              "      <th>3</th>\n",
              "      <td>the office</td>\n",
              "      <td>2028</td>\n",
              "      <td>Comedia</td>\n",
              "      <td></td>\n",
              "    </tr>\n",
              "    <tr>\n",
              "      <th>4</th>\n",
              "      <td>friends</td>\n",
              "      <td>1995</td>\n",
              "      <td>Comedia</td>\n",
              "      <td></td>\n",
              "    </tr>\n",
              "    <tr>\n",
              "      <th>5</th>\n",
              "      <td>two and a half man</td>\n",
              "      <td>2003</td>\n",
              "      <td>Comedia</td>\n",
              "      <td></td>\n",
              "    </tr>\n",
              "    <tr>\n",
              "      <th>6</th>\n",
              "      <td>the boys</td>\n",
              "      <td>2018</td>\n",
              "      <td>Acao</td>\n",
              "      <td></td>\n",
              "    </tr>\n",
              "    <tr>\n",
              "      <th>7</th>\n",
              "      <td>American horror history</td>\n",
              "      <td>2010</td>\n",
              "      <td>Terror</td>\n",
              "      <td></td>\n",
              "    </tr>\n",
              "    <tr>\n",
              "      <th>8</th>\n",
              "      <td>supernatural</td>\n",
              "      <td>2002</td>\n",
              "      <td>Terror</td>\n",
              "      <td></td>\n",
              "    </tr>\n",
              "    <tr>\n",
              "      <th>9</th>\n",
              "      <td>the mentalist</td>\n",
              "      <td>2008</td>\n",
              "      <td>Drama</td>\n",
              "      <td></td>\n",
              "    </tr>\n",
              "    <tr>\n",
              "      <th>10</th>\n",
              "      <td>castlevania</td>\n",
              "      <td>2017</td>\n",
              "      <td>Aventura</td>\n",
              "      <td></td>\n",
              "    </tr>\n",
              "    <tr>\n",
              "      <th>11</th>\n",
              "      <td>naruto</td>\n",
              "      <td>2005</td>\n",
              "      <td>Aventura</td>\n",
              "      <td></td>\n",
              "    </tr>\n",
              "  </tbody>\n",
              "</table>\n",
              "</div>"
            ],
            "text/plain": [
              "                     Titulo   Ano     genero   \n",
              "0      How i met you mother  2006    Comedia   \n",
              "1           Game of thrones  2012   Fantasia   \n",
              "2                  Mr robot  2010      Drama   \n",
              "3                the office  2028    Comedia   \n",
              "4                   friends  1995    Comedia   \n",
              "5        two and a half man  2003    Comedia   \n",
              "6                  the boys  2018       Acao   \n",
              "7   American horror history  2010     Terror   \n",
              "8              supernatural  2002     Terror   \n",
              "9             the mentalist  2008      Drama   \n",
              "10              castlevania  2017   Aventura   \n",
              "11                   naruto  2005   Aventura   "
            ]
          },
          "metadata": {
            "tags": []
          },
          "execution_count": 26
        }
      ]
    },
    {
      "cell_type": "code",
      "metadata": {
        "id": "ae72dLNdgMTD"
      },
      "source": [
        "QuantidadeGeneros = dataSeries[' genero'].value_counts()"
      ],
      "execution_count": null,
      "outputs": []
    },
    {
      "cell_type": "code",
      "metadata": {
        "colab": {
          "base_uri": "https://localhost:8080/",
          "height": 283
        },
        "id": "104S-IjWgo0f",
        "outputId": "99e99f66-666d-469d-eda3-ebe8eeca5cee"
      },
      "source": [
        "sns.barplot(y=QuantidadeGenero.keys(),x=QuantidadeGenero.values,palette=sns.color_palette(palette='dark'),orient='h')"
      ],
      "execution_count": null,
      "outputs": [
        {
          "output_type": "execute_result",
          "data": {
            "text/plain": [
              "<matplotlib.axes._subplots.AxesSubplot at 0x7f8e61f77950>"
            ]
          },
          "metadata": {
            "tags": []
          },
          "execution_count": 25
        },
        {
          "output_type": "display_data",
          "data": {
            "image/png": "[encoded data removed]",
            "text/plain": [
              "<Figure size 432x288 with 1 Axes>"
            ]
          },
          "metadata": {
            "tags": [],
            "needs_background": "light"
          }
        }
      ]
    },
    {
      "cell_type": "code",
      "metadata": {
        "colab": {
          "base_uri": "https://localhost:8080/",
          "height": 297
        },
        "id": "adRVRLg8i7RQ",
        "outputId": "e1ff12df-96fe-472d-807a-98dd50e6f6f0"
      },
      "source": [
        "sns.histplot(data=dataSeries[' Ano'],color='red',palette=sns.color_palette(palette='deep'),bins=7)"
      ],
      "execution_count": null,
      "outputs": [
        {
          "output_type": "execute_result",
          "data": {
            "text/plain": [
              "<matplotlib.axes._subplots.AxesSubplot at 0x7f8e5fc347d0>"
            ]
          },
          "metadata": {
            "tags": []
          },
          "execution_count": 40
        },
        {
          "output_type": "display_data",
          "data": {
            "image/png": "[encoded data removed]",
            "text/plain": [
              "<Figure size 432x288 with 1 Axes>"
            ]
          },
          "metadata": {
            "tags": [],
            "needs_background": "light"
          }
        }
      ]
    }
  ]
}